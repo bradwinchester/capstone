{
 "cells": [
  {
   "cell_type": "markdown",
   "id": "61119753-09b7-4ffb-a7ac-7ffd58a6479d",
   "metadata": {},
   "source": [
    "### 1. Importing Libraries"
   ]
  },
  {
   "cell_type": "code",
   "execution_count": 1,
   "id": "fee0ad66-824d-403a-9bd2-0a3e04499dbc",
   "metadata": {},
   "outputs": [],
   "source": [
    "# Data Exploration / Manipulation\n",
    "import numpy as np\n",
    "import pandas as pd\n",
    "import matplotlib.pyplot as plt\n",
    "import seaborn as sns\n",
    "\n",
    "# Machine Learning Models\n",
    "from sklearn.linear_model import LogisticRegression\n",
    "from sklearn.neighbors import KNeighborsClassifier\n",
    "from sklearn.ensemble import RandomForestClassifier\n",
    "from sklearn.svm import LinearSVC\n",
    "\n",
    "# Evaluation and Scoring\n",
    "from sklearn.model_selection import train_test_split, cross_val_score, RandomizedSearchCV, GridSearchCV\n",
    "from sklearn.metrics import confusion_matrix, classification_report,precision_score\n",
    "from sklearn.metrics import recall_score, f1_score, RocCurveDisplay, roc_curve, auc\n",
    "\n",
    "# Ignore warnings\n",
    "import warnings\n",
    "warnings.filterwarnings(\"ignore\")"
   ]
  },
  {
   "cell_type": "markdown",
   "id": "89b6fdb2-259b-45c7-a6d4-52f51b58b331",
   "metadata": {},
   "source": [
    "### 2. Importing Dataset"
   ]
  },
  {
   "cell_type": "code",
   "execution_count": 2,
   "id": "9a37f531-aaad-419c-8ea4-52377b989d43",
   "metadata": {},
   "outputs": [
    {
     "data": {
      "text/html": [
       "<div>\n",
       "<style scoped>\n",
       "    .dataframe tbody tr th:only-of-type {\n",
       "        vertical-align: middle;\n",
       "    }\n",
       "\n",
       "    .dataframe tbody tr th {\n",
       "        vertical-align: top;\n",
       "    }\n",
       "\n",
       "    .dataframe thead th {\n",
       "        text-align: right;\n",
       "    }\n",
       "</style>\n",
       "<table border=\"1\" class=\"dataframe\">\n",
       "  <thead>\n",
       "    <tr style=\"text-align: right;\">\n",
       "      <th></th>\n",
       "      <th>loan_id</th>\n",
       "      <th>no_of_dependents</th>\n",
       "      <th>education</th>\n",
       "      <th>self_employed</th>\n",
       "      <th>income_annum</th>\n",
       "      <th>loan_amount</th>\n",
       "      <th>loan_term</th>\n",
       "      <th>cibil_score</th>\n",
       "      <th>residential_assets_value</th>\n",
       "      <th>commercial_assets_value</th>\n",
       "      <th>luxury_assets_value</th>\n",
       "      <th>bank_asset_value</th>\n",
       "      <th>loan_status</th>\n",
       "    </tr>\n",
       "  </thead>\n",
       "  <tbody>\n",
       "    <tr>\n",
       "      <th>0</th>\n",
       "      <td>1</td>\n",
       "      <td>2</td>\n",
       "      <td>Graduate</td>\n",
       "      <td>No</td>\n",
       "      <td>9600000</td>\n",
       "      <td>29900000</td>\n",
       "      <td>12</td>\n",
       "      <td>778</td>\n",
       "      <td>2400000</td>\n",
       "      <td>17600000</td>\n",
       "      <td>22700000</td>\n",
       "      <td>8000000</td>\n",
       "      <td>Approved</td>\n",
       "    </tr>\n",
       "    <tr>\n",
       "      <th>1</th>\n",
       "      <td>2</td>\n",
       "      <td>0</td>\n",
       "      <td>Not Graduate</td>\n",
       "      <td>Yes</td>\n",
       "      <td>4100000</td>\n",
       "      <td>12200000</td>\n",
       "      <td>8</td>\n",
       "      <td>417</td>\n",
       "      <td>2700000</td>\n",
       "      <td>2200000</td>\n",
       "      <td>8800000</td>\n",
       "      <td>3300000</td>\n",
       "      <td>Rejected</td>\n",
       "    </tr>\n",
       "    <tr>\n",
       "      <th>2</th>\n",
       "      <td>3</td>\n",
       "      <td>3</td>\n",
       "      <td>Graduate</td>\n",
       "      <td>No</td>\n",
       "      <td>9100000</td>\n",
       "      <td>29700000</td>\n",
       "      <td>20</td>\n",
       "      <td>506</td>\n",
       "      <td>7100000</td>\n",
       "      <td>4500000</td>\n",
       "      <td>33300000</td>\n",
       "      <td>12800000</td>\n",
       "      <td>Rejected</td>\n",
       "    </tr>\n",
       "    <tr>\n",
       "      <th>3</th>\n",
       "      <td>4</td>\n",
       "      <td>3</td>\n",
       "      <td>Graduate</td>\n",
       "      <td>No</td>\n",
       "      <td>8200000</td>\n",
       "      <td>30700000</td>\n",
       "      <td>8</td>\n",
       "      <td>467</td>\n",
       "      <td>18200000</td>\n",
       "      <td>3300000</td>\n",
       "      <td>23300000</td>\n",
       "      <td>7900000</td>\n",
       "      <td>Rejected</td>\n",
       "    </tr>\n",
       "    <tr>\n",
       "      <th>4</th>\n",
       "      <td>5</td>\n",
       "      <td>5</td>\n",
       "      <td>Not Graduate</td>\n",
       "      <td>Yes</td>\n",
       "      <td>9800000</td>\n",
       "      <td>24200000</td>\n",
       "      <td>20</td>\n",
       "      <td>382</td>\n",
       "      <td>12400000</td>\n",
       "      <td>8200000</td>\n",
       "      <td>29400000</td>\n",
       "      <td>5000000</td>\n",
       "      <td>Rejected</td>\n",
       "    </tr>\n",
       "  </tbody>\n",
       "</table>\n",
       "</div>"
      ],
      "text/plain": [
       "   loan_id  no_of_dependents     education self_employed  income_annum  \\\n",
       "0        1                 2      Graduate            No       9600000   \n",
       "1        2                 0  Not Graduate           Yes       4100000   \n",
       "2        3                 3      Graduate            No       9100000   \n",
       "3        4                 3      Graduate            No       8200000   \n",
       "4        5                 5  Not Graduate           Yes       9800000   \n",
       "\n",
       "   loan_amount  loan_term  cibil_score  residential_assets_value  \\\n",
       "0     29900000         12          778                   2400000   \n",
       "1     12200000          8          417                   2700000   \n",
       "2     29700000         20          506                   7100000   \n",
       "3     30700000          8          467                  18200000   \n",
       "4     24200000         20          382                  12400000   \n",
       "\n",
       "   commercial_assets_value  luxury_assets_value  bank_asset_value loan_status  \n",
       "0                 17600000             22700000           8000000    Approved  \n",
       "1                  2200000              8800000           3300000    Rejected  \n",
       "2                  4500000             33300000          12800000    Rejected  \n",
       "3                  3300000             23300000           7900000    Rejected  \n",
       "4                  8200000             29400000           5000000    Rejected  "
      ]
     },
     "execution_count": 2,
     "metadata": {},
     "output_type": "execute_result"
    }
   ],
   "source": [
    "# Import dataset\n",
    "df = pd.read_csv('loan_approval_dataset.csv', skipinitialspace=True)\n",
    "df.head()"
   ]
  },
  {
   "cell_type": "markdown",
   "id": "2521945b-947b-466c-b6dc-e781100ffb91",
   "metadata": {},
   "source": [
    "### 3. Data Exploration"
   ]
  },
  {
   "cell_type": "code",
   "execution_count": 3,
   "id": "e4c5b98d-bf07-4326-9068-739696ba570a",
   "metadata": {},
   "outputs": [
    {
     "name": "stdout",
     "output_type": "stream",
     "text": [
      "<class 'pandas.core.frame.DataFrame'>\n",
      "RangeIndex: 4269 entries, 0 to 4268\n",
      "Data columns (total 13 columns):\n",
      " #   Column                    Non-Null Count  Dtype \n",
      "---  ------                    --------------  ----- \n",
      " 0   loan_id                   4269 non-null   int64 \n",
      " 1   no_of_dependents          4269 non-null   int64 \n",
      " 2   education                 4269 non-null   object\n",
      " 3   self_employed             4269 non-null   object\n",
      " 4   income_annum              4269 non-null   int64 \n",
      " 5   loan_amount               4269 non-null   int64 \n",
      " 6   loan_term                 4269 non-null   int64 \n",
      " 7   cibil_score               4269 non-null   int64 \n",
      " 8   residential_assets_value  4269 non-null   int64 \n",
      " 9   commercial_assets_value   4269 non-null   int64 \n",
      " 10  luxury_assets_value       4269 non-null   int64 \n",
      " 11  bank_asset_value          4269 non-null   int64 \n",
      " 12  loan_status               4269 non-null   object\n",
      "dtypes: int64(10), object(3)\n",
      "memory usage: 433.7+ KB\n"
     ]
    }
   ],
   "source": [
    "df.info()"
   ]
  },
  {
   "cell_type": "code",
   "execution_count": 4,
   "id": "09d30f65-4c55-402d-9709-86adf24f2ca8",
   "metadata": {},
   "outputs": [
    {
     "data": {
      "text/html": [
       "<div>\n",
       "<style scoped>\n",
       "    .dataframe tbody tr th:only-of-type {\n",
       "        vertical-align: middle;\n",
       "    }\n",
       "\n",
       "    .dataframe tbody tr th {\n",
       "        vertical-align: top;\n",
       "    }\n",
       "\n",
       "    .dataframe thead th {\n",
       "        text-align: right;\n",
       "    }\n",
       "</style>\n",
       "<table border=\"1\" class=\"dataframe\">\n",
       "  <thead>\n",
       "    <tr style=\"text-align: right;\">\n",
       "      <th></th>\n",
       "      <th>loan_id</th>\n",
       "      <th>no_of_dependents</th>\n",
       "      <th>income_annum</th>\n",
       "      <th>loan_amount</th>\n",
       "      <th>loan_term</th>\n",
       "      <th>cibil_score</th>\n",
       "      <th>residential_assets_value</th>\n",
       "      <th>commercial_assets_value</th>\n",
       "      <th>luxury_assets_value</th>\n",
       "      <th>bank_asset_value</th>\n",
       "    </tr>\n",
       "  </thead>\n",
       "  <tbody>\n",
       "    <tr>\n",
       "      <th>count</th>\n",
       "      <td>4269.0</td>\n",
       "      <td>4269.0</td>\n",
       "      <td>4269.0</td>\n",
       "      <td>4269.0</td>\n",
       "      <td>4269.0</td>\n",
       "      <td>4269.0</td>\n",
       "      <td>4269.0</td>\n",
       "      <td>4269.0</td>\n",
       "      <td>4269.0</td>\n",
       "      <td>4269.0</td>\n",
       "    </tr>\n",
       "    <tr>\n",
       "      <th>mean</th>\n",
       "      <td>2135.0</td>\n",
       "      <td>2.5</td>\n",
       "      <td>5059123.9</td>\n",
       "      <td>15133450.5</td>\n",
       "      <td>10.9</td>\n",
       "      <td>599.9</td>\n",
       "      <td>7472616.5</td>\n",
       "      <td>4973155.3</td>\n",
       "      <td>15126305.9</td>\n",
       "      <td>4976692.4</td>\n",
       "    </tr>\n",
       "    <tr>\n",
       "      <th>std</th>\n",
       "      <td>1232.5</td>\n",
       "      <td>1.7</td>\n",
       "      <td>2806839.8</td>\n",
       "      <td>9043363.0</td>\n",
       "      <td>5.7</td>\n",
       "      <td>172.4</td>\n",
       "      <td>6503636.6</td>\n",
       "      <td>4388966.1</td>\n",
       "      <td>9103753.7</td>\n",
       "      <td>3250185.3</td>\n",
       "    </tr>\n",
       "    <tr>\n",
       "      <th>min</th>\n",
       "      <td>1.0</td>\n",
       "      <td>0.0</td>\n",
       "      <td>200000.0</td>\n",
       "      <td>300000.0</td>\n",
       "      <td>2.0</td>\n",
       "      <td>300.0</td>\n",
       "      <td>-100000.0</td>\n",
       "      <td>0.0</td>\n",
       "      <td>300000.0</td>\n",
       "      <td>0.0</td>\n",
       "    </tr>\n",
       "    <tr>\n",
       "      <th>25%</th>\n",
       "      <td>1068.0</td>\n",
       "      <td>1.0</td>\n",
       "      <td>2700000.0</td>\n",
       "      <td>7700000.0</td>\n",
       "      <td>6.0</td>\n",
       "      <td>453.0</td>\n",
       "      <td>2200000.0</td>\n",
       "      <td>1300000.0</td>\n",
       "      <td>7500000.0</td>\n",
       "      <td>2300000.0</td>\n",
       "    </tr>\n",
       "    <tr>\n",
       "      <th>50%</th>\n",
       "      <td>2135.0</td>\n",
       "      <td>3.0</td>\n",
       "      <td>5100000.0</td>\n",
       "      <td>14500000.0</td>\n",
       "      <td>10.0</td>\n",
       "      <td>600.0</td>\n",
       "      <td>5600000.0</td>\n",
       "      <td>3700000.0</td>\n",
       "      <td>14600000.0</td>\n",
       "      <td>4600000.0</td>\n",
       "    </tr>\n",
       "    <tr>\n",
       "      <th>75%</th>\n",
       "      <td>3202.0</td>\n",
       "      <td>4.0</td>\n",
       "      <td>7500000.0</td>\n",
       "      <td>21500000.0</td>\n",
       "      <td>16.0</td>\n",
       "      <td>748.0</td>\n",
       "      <td>11300000.0</td>\n",
       "      <td>7600000.0</td>\n",
       "      <td>21700000.0</td>\n",
       "      <td>7100000.0</td>\n",
       "    </tr>\n",
       "    <tr>\n",
       "      <th>max</th>\n",
       "      <td>4269.0</td>\n",
       "      <td>5.0</td>\n",
       "      <td>9900000.0</td>\n",
       "      <td>39500000.0</td>\n",
       "      <td>20.0</td>\n",
       "      <td>900.0</td>\n",
       "      <td>29100000.0</td>\n",
       "      <td>19400000.0</td>\n",
       "      <td>39200000.0</td>\n",
       "      <td>14700000.0</td>\n",
       "    </tr>\n",
       "  </tbody>\n",
       "</table>\n",
       "</div>"
      ],
      "text/plain": [
       "      loan_id no_of_dependents income_annum loan_amount loan_term cibil_score  \\\n",
       "count  4269.0           4269.0       4269.0      4269.0    4269.0      4269.0   \n",
       "mean   2135.0              2.5    5059123.9  15133450.5      10.9       599.9   \n",
       "std    1232.5              1.7    2806839.8   9043363.0       5.7       172.4   \n",
       "min       1.0              0.0     200000.0    300000.0       2.0       300.0   \n",
       "25%    1068.0              1.0    2700000.0   7700000.0       6.0       453.0   \n",
       "50%    2135.0              3.0    5100000.0  14500000.0      10.0       600.0   \n",
       "75%    3202.0              4.0    7500000.0  21500000.0      16.0       748.0   \n",
       "max    4269.0              5.0    9900000.0  39500000.0      20.0       900.0   \n",
       "\n",
       "      residential_assets_value commercial_assets_value luxury_assets_value  \\\n",
       "count                   4269.0                  4269.0              4269.0   \n",
       "mean                 7472616.5               4973155.3          15126305.9   \n",
       "std                  6503636.6               4388966.1           9103753.7   \n",
       "min                  -100000.0                     0.0            300000.0   \n",
       "25%                  2200000.0               1300000.0           7500000.0   \n",
       "50%                  5600000.0               3700000.0          14600000.0   \n",
       "75%                 11300000.0               7600000.0          21700000.0   \n",
       "max                 29100000.0              19400000.0          39200000.0   \n",
       "\n",
       "      bank_asset_value  \n",
       "count           4269.0  \n",
       "mean         4976692.4  \n",
       "std          3250185.3  \n",
       "min                0.0  \n",
       "25%          2300000.0  \n",
       "50%          4600000.0  \n",
       "75%          7100000.0  \n",
       "max         14700000.0  "
      ]
     },
     "execution_count": 4,
     "metadata": {},
     "output_type": "execute_result"
    }
   ],
   "source": [
    "df.describe().map(lambda x: f\"{x:0.1f}\")"
   ]
  },
  {
   "cell_type": "code",
   "execution_count": 5,
   "id": "0b1b1d8d-cc74-4633-b20e-8c85459ddd1a",
   "metadata": {},
   "outputs": [
    {
     "data": {
      "text/plain": [
       "education\n",
       "Graduate        2144\n",
       "Not Graduate    2125\n",
       "Name: count, dtype: int64"
      ]
     },
     "execution_count": 5,
     "metadata": {},
     "output_type": "execute_result"
    }
   ],
   "source": [
    "# See how many values each categorical column contains\n",
    "df['education'].value_counts()"
   ]
  },
  {
   "cell_type": "code",
   "execution_count": 6,
   "id": "192483e1-db76-4e91-b518-3b0c58f31977",
   "metadata": {},
   "outputs": [
    {
     "data": {
      "text/plain": [
       "self_employed\n",
       "Yes    2150\n",
       "No     2119\n",
       "Name: count, dtype: int64"
      ]
     },
     "execution_count": 6,
     "metadata": {},
     "output_type": "execute_result"
    }
   ],
   "source": [
    "df['self_employed'].value_counts()"
   ]
  },
  {
   "cell_type": "code",
   "execution_count": 7,
   "id": "4810bcbc-6501-418e-9839-63e25ebddbb2",
   "metadata": {},
   "outputs": [
    {
     "data": {
      "text/plain": [
       "loan_status\n",
       "Approved    2656\n",
       "Rejected    1613\n",
       "Name: count, dtype: int64"
      ]
     },
     "execution_count": 7,
     "metadata": {},
     "output_type": "execute_result"
    }
   ],
   "source": [
    "df['loan_status'].value_counts()"
   ]
  },
  {
   "cell_type": "markdown",
   "id": "00c4b3a8-eb74-4fec-993d-c0dc57744979",
   "metadata": {},
   "source": [
    "### 4. Data Preprocessing"
   ]
  },
  {
   "cell_type": "code",
   "execution_count": 8,
   "id": "962b0f34-56d9-42a4-940d-544f69b03c4c",
   "metadata": {},
   "outputs": [],
   "source": [
    "# Remove index column as it is not needed anymore\n",
    "df.drop('loan_id', axis=1, inplace=True)"
   ]
  },
  {
   "cell_type": "code",
   "execution_count": 9,
   "id": "a597d919-ba4f-41b7-9be3-9e4f77c34a75",
   "metadata": {},
   "outputs": [
    {
     "data": {
      "text/html": [
       "<div>\n",
       "<style scoped>\n",
       "    .dataframe tbody tr th:only-of-type {\n",
       "        vertical-align: middle;\n",
       "    }\n",
       "\n",
       "    .dataframe tbody tr th {\n",
       "        vertical-align: top;\n",
       "    }\n",
       "\n",
       "    .dataframe thead th {\n",
       "        text-align: right;\n",
       "    }\n",
       "</style>\n",
       "<table border=\"1\" class=\"dataframe\">\n",
       "  <thead>\n",
       "    <tr style=\"text-align: right;\">\n",
       "      <th></th>\n",
       "      <th>no_of_dependents</th>\n",
       "      <th>education</th>\n",
       "      <th>self_employed</th>\n",
       "      <th>income_annum</th>\n",
       "      <th>loan_amount</th>\n",
       "      <th>loan_term</th>\n",
       "      <th>cibil_score</th>\n",
       "      <th>residential_assets_value</th>\n",
       "      <th>commercial_assets_value</th>\n",
       "      <th>luxury_assets_value</th>\n",
       "      <th>bank_asset_value</th>\n",
       "      <th>loan_status</th>\n",
       "    </tr>\n",
       "  </thead>\n",
       "  <tbody>\n",
       "    <tr>\n",
       "      <th>0</th>\n",
       "      <td>2</td>\n",
       "      <td>Graduate</td>\n",
       "      <td>No</td>\n",
       "      <td>115488</td>\n",
       "      <td>359697</td>\n",
       "      <td>12</td>\n",
       "      <td>778</td>\n",
       "      <td>28872</td>\n",
       "      <td>211728</td>\n",
       "      <td>273081</td>\n",
       "      <td>96240</td>\n",
       "      <td>Approved</td>\n",
       "    </tr>\n",
       "    <tr>\n",
       "      <th>1</th>\n",
       "      <td>0</td>\n",
       "      <td>Not Graduate</td>\n",
       "      <td>Yes</td>\n",
       "      <td>49323</td>\n",
       "      <td>146766</td>\n",
       "      <td>8</td>\n",
       "      <td>417</td>\n",
       "      <td>32481</td>\n",
       "      <td>26466</td>\n",
       "      <td>105864</td>\n",
       "      <td>39699</td>\n",
       "      <td>Rejected</td>\n",
       "    </tr>\n",
       "    <tr>\n",
       "      <th>2</th>\n",
       "      <td>3</td>\n",
       "      <td>Graduate</td>\n",
       "      <td>No</td>\n",
       "      <td>109473</td>\n",
       "      <td>357291</td>\n",
       "      <td>20</td>\n",
       "      <td>506</td>\n",
       "      <td>85413</td>\n",
       "      <td>54135</td>\n",
       "      <td>400599</td>\n",
       "      <td>153984</td>\n",
       "      <td>Rejected</td>\n",
       "    </tr>\n",
       "    <tr>\n",
       "      <th>3</th>\n",
       "      <td>3</td>\n",
       "      <td>Graduate</td>\n",
       "      <td>No</td>\n",
       "      <td>98646</td>\n",
       "      <td>369321</td>\n",
       "      <td>8</td>\n",
       "      <td>467</td>\n",
       "      <td>218946</td>\n",
       "      <td>39699</td>\n",
       "      <td>280299</td>\n",
       "      <td>95037</td>\n",
       "      <td>Rejected</td>\n",
       "    </tr>\n",
       "    <tr>\n",
       "      <th>4</th>\n",
       "      <td>5</td>\n",
       "      <td>Not Graduate</td>\n",
       "      <td>Yes</td>\n",
       "      <td>117894</td>\n",
       "      <td>291126</td>\n",
       "      <td>20</td>\n",
       "      <td>382</td>\n",
       "      <td>149172</td>\n",
       "      <td>98646</td>\n",
       "      <td>353682</td>\n",
       "      <td>60150</td>\n",
       "      <td>Rejected</td>\n",
       "    </tr>\n",
       "  </tbody>\n",
       "</table>\n",
       "</div>"
      ],
      "text/plain": [
       "   no_of_dependents     education self_employed  income_annum  loan_amount  \\\n",
       "0                 2      Graduate            No        115488       359697   \n",
       "1                 0  Not Graduate           Yes         49323       146766   \n",
       "2                 3      Graduate            No        109473       357291   \n",
       "3                 3      Graduate            No         98646       369321   \n",
       "4                 5  Not Graduate           Yes        117894       291126   \n",
       "\n",
       "   loan_term  cibil_score  residential_assets_value  commercial_assets_value  \\\n",
       "0         12          778                     28872                   211728   \n",
       "1          8          417                     32481                    26466   \n",
       "2         20          506                     85413                    54135   \n",
       "3          8          467                    218946                    39699   \n",
       "4         20          382                    149172                    98646   \n",
       "\n",
       "   luxury_assets_value  bank_asset_value loan_status  \n",
       "0               273081             96240    Approved  \n",
       "1               105864             39699    Rejected  \n",
       "2               400599            153984    Rejected  \n",
       "3               280299             95037    Rejected  \n",
       "4               353682             60150    Rejected  "
      ]
     },
     "execution_count": 9,
     "metadata": {},
     "output_type": "execute_result"
    }
   ],
   "source": [
    "# Convert monetary columns from rupees to USD for simplicity \n",
    "monetary_cols = ['income_annum', 'loan_amount', 'residential_assets_value', \n",
    "                 'commercial_assets_value', 'luxury_assets_value', 'bank_asset_value'] \n",
    "\n",
    "for key in monetary_cols:\n",
    "    df[key] = df[key].apply(lambda x : x * 0.01203).astype(np.int64)\n",
    "\n",
    "df.head()"
   ]
  },
  {
   "cell_type": "code",
   "execution_count": 10,
   "id": "8eb90831-a33b-41e1-be8d-b107b8287133",
   "metadata": {},
   "outputs": [],
   "source": [
    "# Convert binary categorical variables to boolean numeric for increased model performance\n",
    "df['education'].replace({'Not Graduate' : 0, 'Graduate' : 1}, inplace=True)\n",
    "df['self_employed'].replace({'No' : 0, 'Yes' : 1}, inplace=True)\n",
    "df['loan_status'].replace({'Rejected' : 0, 'Approved' : 1}, inplace=True)"
   ]
  },
  {
   "cell_type": "code",
   "execution_count": 11,
   "id": "3a2ad463-fb2a-40d2-b66a-06ffadc73792",
   "metadata": {},
   "outputs": [
    {
     "data": {
      "text/plain": [
       "no_of_dependents            int64\n",
       "education                   int64\n",
       "self_employed               int64\n",
       "income_annum                int64\n",
       "loan_amount                 int64\n",
       "loan_term                   int64\n",
       "cibil_score                 int64\n",
       "residential_assets_value    int64\n",
       "commercial_assets_value     int64\n",
       "luxury_assets_value         int64\n",
       "bank_asset_value            int64\n",
       "loan_status                 int64\n",
       "dtype: object"
      ]
     },
     "execution_count": 11,
     "metadata": {},
     "output_type": "execute_result"
    }
   ],
   "source": [
    "df.dtypes"
   ]
  },
  {
   "cell_type": "markdown",
   "id": "4463bf4d-cfea-4611-b0d5-4ff33c2f3252",
   "metadata": {},
   "source": [
    "### 5. Exploratory Data Analysis"
   ]
  },
  {
   "cell_type": "code",
   "execution_count": 12,
   "id": "f15df831-9aa3-4bcd-bfd6-a94bffe0deed",
   "metadata": {},
   "outputs": [
    {
     "data": {
      "image/png": "[encoded data removed]",
      "text/plain": [
       "<Figure size 1000x1000 with 2 Axes>"
      ]
     },
     "metadata": {},
     "output_type": "display_data"
    }
   ],
   "source": [
    "# Create a correlation matrix for the data\n",
    "matrix = df.corr().round(2)\n",
    "matrix\n",
    "\n",
    "fig,ax = plt.subplots(figsize=(10,10))\n",
    "\n",
    "# visualize it using a heatmap\n",
    "mask = np.triu(np.ones_like(matrix, dtype=bool))\n",
    "ax = sns.heatmap(matrix, \n",
    "                 annot=True, \n",
    "                 vmax=1, \n",
    "                 vmin=-1, \n",
    "                 center=0, \n",
    "                 cmap='PiYG', \n",
    "                 mask=mask)\n",
    "\n",
    "ax.set(title='Correlation of Independent Features');\n",
    "\n",
    "# save the heatmap to computer\n",
    "plt.savefig('heatmap.png')"
   ]
  },
  {
   "cell_type": "markdown",
   "id": "8f4418c8-aa0b-45a8-a240-e5334e66e27c",
   "metadata": {
    "jp-MarkdownHeadingCollapsed": true
   },
   "source": [
    "We can see several positive correlations between features in our data, such as:\n",
    "* Higher incomes applying for larger loan amounts\n",
    "* Higher incomes having more assets\n",
    "* Higher cibil scores being approved"
   ]
  },
  {
   "cell_type": "markdown",
   "id": "ae2a0a61-cab0-45af-9154-52cb270bea6a",
   "metadata": {},
   "source": [
    "### 6. Modeling"
   ]
  },
  {
   "cell_type": "code",
   "execution_count": 13,
   "id": "0aa78b74-32ea-4a00-b9b1-57c8f5f09dad",
   "metadata": {},
   "outputs": [],
   "source": [
    "# Split features and target \n",
    "X = df.drop('loan_status', axis=1)\n",
    "y = df['loan_status']"
   ]
  },
  {
   "cell_type": "code",
   "execution_count": 14,
   "id": "94ba3a21-2132-4c64-aa3a-a1ec176caab7",
   "metadata": {},
   "outputs": [],
   "source": [
    "# Split data into training and test sets\n",
    "np.random.seed(0)\n",
    "\n",
    "X_train, X_test, y_train, y_test = train_test_split(X, y, test_size=0.2)"
   ]
  },
  {
   "cell_type": "code",
   "execution_count": 15,
   "id": "cb436613-e6bf-44e5-a0b8-dc2ab1ec14f1",
   "metadata": {},
   "outputs": [
    {
     "data": {
      "text/html": [
       "<div>\n",
       "<style scoped>\n",
       "    .dataframe tbody tr th:only-of-type {\n",
       "        vertical-align: middle;\n",
       "    }\n",
       "\n",
       "    .dataframe tbody tr th {\n",
       "        vertical-align: top;\n",
       "    }\n",
       "\n",
       "    .dataframe thead th {\n",
       "        text-align: right;\n",
       "    }\n",
       "</style>\n",
       "<table border=\"1\" class=\"dataframe\">\n",
       "  <thead>\n",
       "    <tr style=\"text-align: right;\">\n",
       "      <th></th>\n",
       "      <th>no_of_dependents</th>\n",
       "      <th>education</th>\n",
       "      <th>self_employed</th>\n",
       "      <th>income_annum</th>\n",
       "      <th>loan_amount</th>\n",
       "      <th>loan_term</th>\n",
       "      <th>cibil_score</th>\n",
       "      <th>residential_assets_value</th>\n",
       "      <th>commercial_assets_value</th>\n",
       "      <th>luxury_assets_value</th>\n",
       "      <th>bank_asset_value</th>\n",
       "    </tr>\n",
       "  </thead>\n",
       "  <tbody>\n",
       "    <tr>\n",
       "      <th>2488</th>\n",
       "      <td>2</td>\n",
       "      <td>1</td>\n",
       "      <td>1</td>\n",
       "      <td>32481</td>\n",
       "      <td>76992</td>\n",
       "      <td>18</td>\n",
       "      <td>547</td>\n",
       "      <td>60150</td>\n",
       "      <td>20451</td>\n",
       "      <td>110676</td>\n",
       "      <td>20451</td>\n",
       "    </tr>\n",
       "    <tr>\n",
       "      <th>3703</th>\n",
       "      <td>1</td>\n",
       "      <td>0</td>\n",
       "      <td>1</td>\n",
       "      <td>101052</td>\n",
       "      <td>371727</td>\n",
       "      <td>8</td>\n",
       "      <td>378</td>\n",
       "      <td>223758</td>\n",
       "      <td>12030</td>\n",
       "      <td>311577</td>\n",
       "      <td>133533</td>\n",
       "    </tr>\n",
       "    <tr>\n",
       "      <th>3347</th>\n",
       "      <td>2</td>\n",
       "      <td>0</td>\n",
       "      <td>0</td>\n",
       "      <td>116691</td>\n",
       "      <td>453531</td>\n",
       "      <td>6</td>\n",
       "      <td>601</td>\n",
       "      <td>3609</td>\n",
       "      <td>37293</td>\n",
       "      <td>286314</td>\n",
       "      <td>141954</td>\n",
       "    </tr>\n",
       "    <tr>\n",
       "      <th>3487</th>\n",
       "      <td>5</td>\n",
       "      <td>0</td>\n",
       "      <td>0</td>\n",
       "      <td>81804</td>\n",
       "      <td>216540</td>\n",
       "      <td>12</td>\n",
       "      <td>690</td>\n",
       "      <td>214134</td>\n",
       "      <td>141954</td>\n",
       "      <td>300750</td>\n",
       "      <td>111879</td>\n",
       "    </tr>\n",
       "    <tr>\n",
       "      <th>3957</th>\n",
       "      <td>0</td>\n",
       "      <td>0</td>\n",
       "      <td>0</td>\n",
       "      <td>51729</td>\n",
       "      <td>132330</td>\n",
       "      <td>4</td>\n",
       "      <td>374</td>\n",
       "      <td>85413</td>\n",
       "      <td>87819</td>\n",
       "      <td>111879</td>\n",
       "      <td>56541</td>\n",
       "    </tr>\n",
       "    <tr>\n",
       "      <th>...</th>\n",
       "      <td>...</td>\n",
       "      <td>...</td>\n",
       "      <td>...</td>\n",
       "      <td>...</td>\n",
       "      <td>...</td>\n",
       "      <td>...</td>\n",
       "      <td>...</td>\n",
       "      <td>...</td>\n",
       "      <td>...</td>\n",
       "      <td>...</td>\n",
       "      <td>...</td>\n",
       "    </tr>\n",
       "    <tr>\n",
       "      <th>1033</th>\n",
       "      <td>3</td>\n",
       "      <td>1</td>\n",
       "      <td>0</td>\n",
       "      <td>7218</td>\n",
       "      <td>14436</td>\n",
       "      <td>2</td>\n",
       "      <td>752</td>\n",
       "      <td>13233</td>\n",
       "      <td>6015</td>\n",
       "      <td>27669</td>\n",
       "      <td>8421</td>\n",
       "    </tr>\n",
       "    <tr>\n",
       "      <th>3264</th>\n",
       "      <td>5</td>\n",
       "      <td>0</td>\n",
       "      <td>1</td>\n",
       "      <td>9624</td>\n",
       "      <td>25263</td>\n",
       "      <td>12</td>\n",
       "      <td>363</td>\n",
       "      <td>14436</td>\n",
       "      <td>12030</td>\n",
       "      <td>37293</td>\n",
       "      <td>10827</td>\n",
       "    </tr>\n",
       "    <tr>\n",
       "      <th>1653</th>\n",
       "      <td>3</td>\n",
       "      <td>0</td>\n",
       "      <td>1</td>\n",
       "      <td>76992</td>\n",
       "      <td>282705</td>\n",
       "      <td>12</td>\n",
       "      <td>684</td>\n",
       "      <td>206916</td>\n",
       "      <td>123909</td>\n",
       "      <td>304359</td>\n",
       "      <td>89022</td>\n",
       "    </tr>\n",
       "    <tr>\n",
       "      <th>2607</th>\n",
       "      <td>4</td>\n",
       "      <td>0</td>\n",
       "      <td>0</td>\n",
       "      <td>64962</td>\n",
       "      <td>151578</td>\n",
       "      <td>18</td>\n",
       "      <td>786</td>\n",
       "      <td>3609</td>\n",
       "      <td>30075</td>\n",
       "      <td>252630</td>\n",
       "      <td>79398</td>\n",
       "    </tr>\n",
       "    <tr>\n",
       "      <th>2732</th>\n",
       "      <td>1</td>\n",
       "      <td>0</td>\n",
       "      <td>1</td>\n",
       "      <td>60150</td>\n",
       "      <td>202104</td>\n",
       "      <td>6</td>\n",
       "      <td>711</td>\n",
       "      <td>75789</td>\n",
       "      <td>91428</td>\n",
       "      <td>192480</td>\n",
       "      <td>38496</td>\n",
       "    </tr>\n",
       "  </tbody>\n",
       "</table>\n",
       "<p>3415 rows × 11 columns</p>\n",
       "</div>"
      ],
      "text/plain": [
       "      no_of_dependents  education  self_employed  income_annum  loan_amount  \\\n",
       "2488                 2          1              1         32481        76992   \n",
       "3703                 1          0              1        101052       371727   \n",
       "3347                 2          0              0        116691       453531   \n",
       "3487                 5          0              0         81804       216540   \n",
       "3957                 0          0              0         51729       132330   \n",
       "...                ...        ...            ...           ...          ...   \n",
       "1033                 3          1              0          7218        14436   \n",
       "3264                 5          0              1          9624        25263   \n",
       "1653                 3          0              1         76992       282705   \n",
       "2607                 4          0              0         64962       151578   \n",
       "2732                 1          0              1         60150       202104   \n",
       "\n",
       "      loan_term  cibil_score  residential_assets_value  \\\n",
       "2488         18          547                     60150   \n",
       "3703          8          378                    223758   \n",
       "3347          6          601                      3609   \n",
       "3487         12          690                    214134   \n",
       "3957          4          374                     85413   \n",
       "...         ...          ...                       ...   \n",
       "1033          2          752                     13233   \n",
       "3264         12          363                     14436   \n",
       "1653         12          684                    206916   \n",
       "2607         18          786                      3609   \n",
       "2732          6          711                     75789   \n",
       "\n",
       "      commercial_assets_value  luxury_assets_value  bank_asset_value  \n",
       "2488                    20451               110676             20451  \n",
       "3703                    12030               311577            133533  \n",
       "3347                    37293               286314            141954  \n",
       "3487                   141954               300750            111879  \n",
       "3957                    87819               111879             56541  \n",
       "...                       ...                  ...               ...  \n",
       "1033                     6015                27669              8421  \n",
       "3264                    12030                37293             10827  \n",
       "1653                   123909               304359             89022  \n",
       "2607                    30075               252630             79398  \n",
       "2732                    91428               192480             38496  \n",
       "\n",
       "[3415 rows x 11 columns]"
      ]
     },
     "execution_count": 15,
     "metadata": {},
     "output_type": "execute_result"
    }
   ],
   "source": [
    "X_train"
   ]
  },
  {
   "cell_type": "markdown",
   "id": "6776858d-8600-4dd0-863c-319494d72958",
   "metadata": {},
   "source": [
    "#### 6.1 Trying different ML models"
   ]
  },
  {
   "cell_type": "code",
   "execution_count": 16,
   "id": "9f87e852-ea97-4812-8f49-96d7d5770653",
   "metadata": {},
   "outputs": [],
   "source": [
    "models = {'Logistic Regression' : LogisticRegression(),\n",
    "         'KNN' : KNeighborsClassifier(),\n",
    "         'Random Forest' : RandomForestClassifier()}\n",
    "\n",
    "# Function to fit and score models\n",
    "def fit_score(models, X_train, y_train, X_test, y_test):\n",
    "    np.random.seed(0)\n",
    "    scores = {}\n",
    "\n",
    "    for name, model in models.items():\n",
    "        model.fit(X_train, y_train)\n",
    "        scores[name] = model.score(X_test, y_test)\n",
    "    return scores"
   ]
  },
  {
   "cell_type": "code",
   "execution_count": 17,
   "id": "3b0d4df7-09e6-4aac-aa01-b527c8e2c666",
   "metadata": {},
   "outputs": [
    {
     "data": {
      "text/plain": [
       "{'Logistic Regression': 0.7915690866510539,\n",
       " 'KNN': 0.5597189695550351,\n",
       " 'Random Forest': 0.9871194379391101}"
      ]
     },
     "execution_count": 17,
     "metadata": {},
     "output_type": "execute_result"
    }
   ],
   "source": [
    "scores = fit_score(models, X_train, y_train, X_test, y_test)\n",
    "scores"
   ]
  },
  {
   "cell_type": "markdown",
   "id": "ae13c0d8-5678-4e2d-851d-6955378305f2",
   "metadata": {},
   "source": [
    "#### 6.2 Hyperparameter Tuning"
   ]
  },
  {
   "cell_type": "code",
   "execution_count": 18,
   "id": "fd73a962-85e4-44f7-ad77-b1c12fd2565d",
   "metadata": {},
   "outputs": [],
   "source": [
    "# Tune KNN\n",
    "train_results = []\n",
    "test_results = []\n",
    "\n",
    "params = range(1,21)\n",
    "clf = KNeighborsClassifier()\n",
    "\n",
    "for p in params:\n",
    "    clf.set_params(n_neighbors=p)\n",
    "    clf.fit(X_train, y_train)\n",
    "    train_results.append(clf.score(X_train, y_train))\n",
    "    test_results.append(clf.score(X_test, y_test))"
   ]
  },
  {
   "cell_type": "code",
   "execution_count": 19,
   "id": "e701ed6c-4470-4406-a60e-a9021d4eca04",
   "metadata": {},
   "outputs": [
    {
     "name": "stdout",
     "output_type": "stream",
     "text": [
      "KNN highest score on the test data: 60.66\n"
     ]
    },
    {
     "data": {
      "image/png": "[encoded data removed]",
      "text/plain": [
       "<Figure size 640x480 with 1 Axes>"
      ]
     },
     "metadata": {},
     "output_type": "display_data"
    }
   ],
   "source": [
    "plt.plot(params, train_results, label='Training Data Scores')\n",
    "plt.plot(params, test_results, label='Test Data Scores')\n",
    "plt.xticks(np.arange(1,21,1))\n",
    "plt.xlabel('Num Neighbors')\n",
    "plt.ylabel('Model Score')\n",
    "plt.legend()\n",
    "\n",
    "print(f'KNN highest score on the test data: {max(test_results)*100:.2f}')"
   ]
  },
  {
   "cell_type": "markdown",
   "id": "b7ec8fa4-a60a-4e7b-9c24-3323e1764449",
   "metadata": {},
   "source": [
    "Even after tuning, KNN is not performing well enough to consider for the project. "
   ]
  },
  {
   "cell_type": "code",
   "execution_count": 20,
   "id": "77d91780-33f0-492e-bc35-e5d67c54b4af",
   "metadata": {},
   "outputs": [],
   "source": [
    "# Hyperparameter grids\n",
    "\n",
    "# Logistic Regression\n",
    "log_grid = {'C': np.logspace(-4, 4, 20),\n",
    "           'solver': ['liblinear']}\n",
    "\n",
    "# Random Forest \n",
    "rand_grid = {'n_estimators': np.arange(10, 1000, 50),\n",
    "            'max_depth': [None, 2, 5, 10],\n",
    "            'min_samples_split': np.arange(2, 20, 2),\n",
    "            'min_samples_leaf': np.arange(1, 20, 2)}"
   ]
  },
  {
   "cell_type": "code",
   "execution_count": 21,
   "id": "82bd67ca-6cdb-4886-b3ec-826748abfcbc",
   "metadata": {},
   "outputs": [
    {
     "name": "stdout",
     "output_type": "stream",
     "text": [
      "Fitting 5 folds for each of 20 candidates, totalling 100 fits\n"
     ]
    },
    {
     "data": {
      "text/html": [
       "<style>#sk-container-id-1 {color: black;}#sk-container-id-1 pre{padding: 0;}#sk-container-id-1 div.sk-toggleable {background-color: white;}#sk-container-id-1 label.sk-toggleable__label {cursor: pointer;display: block;width: 100%;margin-bottom: 0;padding: 0.3em;box-sizing: border-box;text-align: center;}#sk-container-id-1 label.sk-toggleable__label-arrow:before {content: \"▸\";float: left;margin-right: 0.25em;color: #696969;}#sk-container-id-1 label.sk-toggleable__label-arrow:hover:before {color: black;}#sk-container-id-1 div.sk-estimator:hover label.sk-toggleable__label-arrow:before {color: black;}#sk-container-id-1 div.sk-toggleable__content {max-height: 0;max-width: 0;overflow: hidden;text-align: left;background-color: #f0f8ff;}#sk-container-id-1 div.sk-toggleable__content pre {margin: 0.2em;color: black;border-radius: 0.25em;background-color: #f0f8ff;}#sk-container-id-1 input.sk-toggleable__control:checked~div.sk-toggleable__content {max-height: 200px;max-width: 100%;overflow: auto;}#sk-container-id-1 input.sk-toggleable__control:checked~label.sk-toggleable__label-arrow:before {content: \"▾\";}#sk-container-id-1 div.sk-estimator input.sk-toggleable__control:checked~label.sk-toggleable__label {background-color: #d4ebff;}#sk-container-id-1 div.sk-label input.sk-toggleable__control:checked~label.sk-toggleable__label {background-color: #d4ebff;}#sk-container-id-1 input.sk-hidden--visually {border: 0;clip: rect(1px 1px 1px 1px);clip: rect(1px, 1px, 1px, 1px);height: 1px;margin: -1px;overflow: hidden;padding: 0;position: absolute;width: 1px;}#sk-container-id-1 div.sk-estimator {font-family: monospace;background-color: #f0f8ff;border: 1px dotted black;border-radius: 0.25em;box-sizing: border-box;margin-bottom: 0.5em;}#sk-container-id-1 div.sk-estimator:hover {background-color: #d4ebff;}#sk-container-id-1 div.sk-parallel-item::after {content: \"\";width: 100%;border-bottom: 1px solid gray;flex-grow: 1;}#sk-container-id-1 div.sk-label:hover label.sk-toggleable__label {background-color: #d4ebff;}#sk-container-id-1 div.sk-serial::before {content: \"\";position: absolute;border-left: 1px solid gray;box-sizing: border-box;top: 0;bottom: 0;left: 50%;z-index: 0;}#sk-container-id-1 div.sk-serial {display: flex;flex-direction: column;align-items: center;background-color: white;padding-right: 0.2em;padding-left: 0.2em;position: relative;}#sk-container-id-1 div.sk-item {position: relative;z-index: 1;}#sk-container-id-1 div.sk-parallel {display: flex;align-items: stretch;justify-content: center;background-color: white;position: relative;}#sk-container-id-1 div.sk-item::before, #sk-container-id-1 div.sk-parallel-item::before {content: \"\";position: absolute;border-left: 1px solid gray;box-sizing: border-box;top: 0;bottom: 0;left: 50%;z-index: -1;}#sk-container-id-1 div.sk-parallel-item {display: flex;flex-direction: column;z-index: 1;position: relative;background-color: white;}#sk-container-id-1 div.sk-parallel-item:first-child::after {align-self: flex-end;width: 50%;}#sk-container-id-1 div.sk-parallel-item:last-child::after {align-self: flex-start;width: 50%;}#sk-container-id-1 div.sk-parallel-item:only-child::after {width: 0;}#sk-container-id-1 div.sk-dashed-wrapped {border: 1px dashed gray;margin: 0 0.4em 0.5em 0.4em;box-sizing: border-box;padding-bottom: 0.4em;background-color: white;}#sk-container-id-1 div.sk-label label {font-family: monospace;font-weight: bold;display: inline-block;line-height: 1.2em;}#sk-container-id-1 div.sk-label-container {text-align: center;}#sk-container-id-1 div.sk-container {/* jupyter's `normalize.less` sets `[hidden] { display: none; }` but bootstrap.min.css set `[hidden] { display: none !important; }` so we also need the `!important` here to be able to override the default hidden behavior on the sphinx rendered scikit-learn.org. See: https://github.com/scikit-learn/scikit-learn/issues/21755 */display: inline-block !important;position: relative;}#sk-container-id-1 div.sk-text-repr-fallback {display: none;}</style><div id=\"sk-container-id-1\" class=\"sk-top-container\"><div class=\"sk-text-repr-fallback\"><pre>RandomizedSearchCV(cv=5, estimator=LogisticRegression(), n_iter=20,\n",
       "                   param_distributions={&#x27;C&#x27;: array([1.00000000e-04, 2.63665090e-04, 6.95192796e-04, 1.83298071e-03,\n",
       "       4.83293024e-03, 1.27427499e-02, 3.35981829e-02, 8.85866790e-02,\n",
       "       2.33572147e-01, 6.15848211e-01, 1.62377674e+00, 4.28133240e+00,\n",
       "       1.12883789e+01, 2.97635144e+01, 7.84759970e+01, 2.06913808e+02,\n",
       "       5.45559478e+02, 1.43844989e+03, 3.79269019e+03, 1.00000000e+04]),\n",
       "                                        &#x27;solver&#x27;: [&#x27;liblinear&#x27;]},\n",
       "                   verbose=True)</pre><b>In a Jupyter environment, please rerun this cell to show the HTML representation or trust the notebook. <br />On GitHub, the HTML representation is unable to render, please try loading this page with nbviewer.org.</b></div><div class=\"sk-container\" hidden><div class=\"sk-item sk-dashed-wrapped\"><div class=\"sk-label-container\"><div class=\"sk-label sk-toggleable\"><input class=\"sk-toggleable__control sk-hidden--visually\" id=\"sk-estimator-id-1\" type=\"checkbox\" ><label for=\"sk-estimator-id-1\" class=\"sk-toggleable__label sk-toggleable__label-arrow\">RandomizedSearchCV</label><div class=\"sk-toggleable__content\"><pre>RandomizedSearchCV(cv=5, estimator=LogisticRegression(), n_iter=20,\n",
       "                   param_distributions={&#x27;C&#x27;: array([1.00000000e-04, 2.63665090e-04, 6.95192796e-04, 1.83298071e-03,\n",
       "       4.83293024e-03, 1.27427499e-02, 3.35981829e-02, 8.85866790e-02,\n",
       "       2.33572147e-01, 6.15848211e-01, 1.62377674e+00, 4.28133240e+00,\n",
       "       1.12883789e+01, 2.97635144e+01, 7.84759970e+01, 2.06913808e+02,\n",
       "       5.45559478e+02, 1.43844989e+03, 3.79269019e+03, 1.00000000e+04]),\n",
       "                                        &#x27;solver&#x27;: [&#x27;liblinear&#x27;]},\n",
       "                   verbose=True)</pre></div></div></div><div class=\"sk-parallel\"><div class=\"sk-parallel-item\"><div class=\"sk-item\"><div class=\"sk-label-container\"><div class=\"sk-label sk-toggleable\"><input class=\"sk-toggleable__control sk-hidden--visually\" id=\"sk-estimator-id-2\" type=\"checkbox\" ><label for=\"sk-estimator-id-2\" class=\"sk-toggleable__label sk-toggleable__label-arrow\">estimator: LogisticRegression</label><div class=\"sk-toggleable__content\"><pre>LogisticRegression()</pre></div></div></div><div class=\"sk-serial\"><div class=\"sk-item\"><div class=\"sk-estimator sk-toggleable\"><input class=\"sk-toggleable__control sk-hidden--visually\" id=\"sk-estimator-id-3\" type=\"checkbox\" ><label for=\"sk-estimator-id-3\" class=\"sk-toggleable__label sk-toggleable__label-arrow\">LogisticRegression</label><div class=\"sk-toggleable__content\"><pre>LogisticRegression()</pre></div></div></div></div></div></div></div></div></div></div>"
      ],
      "text/plain": [
       "RandomizedSearchCV(cv=5, estimator=LogisticRegression(), n_iter=20,\n",
       "                   param_distributions={'C': array([1.00000000e-04, 2.63665090e-04, 6.95192796e-04, 1.83298071e-03,\n",
       "       4.83293024e-03, 1.27427499e-02, 3.35981829e-02, 8.85866790e-02,\n",
       "       2.33572147e-01, 6.15848211e-01, 1.62377674e+00, 4.28133240e+00,\n",
       "       1.12883789e+01, 2.97635144e+01, 7.84759970e+01, 2.06913808e+02,\n",
       "       5.45559478e+02, 1.43844989e+03, 3.79269019e+03, 1.00000000e+04]),\n",
       "                                        'solver': ['liblinear']},\n",
       "                   verbose=True)"
      ]
     },
     "execution_count": 21,
     "metadata": {},
     "output_type": "execute_result"
    }
   ],
   "source": [
    "# Tune logistic regression\n",
    "np.random.seed(0)\n",
    "\n",
    "log_reg = RandomizedSearchCV(LogisticRegression(),\n",
    "                            param_distributions=log_grid,\n",
    "                            cv=5,\n",
    "                            n_iter=20,\n",
    "                            verbose=True)\n",
    "log_reg.fit(X_train, y_train)"
   ]
  },
  {
   "cell_type": "code",
   "execution_count": 22,
   "id": "1208b209-787f-4b35-94e9-078c145cde63",
   "metadata": {},
   "outputs": [
    {
     "data": {
      "text/plain": [
       "{'solver': 'liblinear', 'C': 0.0018329807108324356}"
      ]
     },
     "execution_count": 22,
     "metadata": {},
     "output_type": "execute_result"
    }
   ],
   "source": [
    "log_reg.best_params_"
   ]
  },
  {
   "cell_type": "code",
   "execution_count": 23,
   "id": "1d8f65a4-b05b-4590-ac7d-66109438cfba",
   "metadata": {},
   "outputs": [
    {
     "data": {
      "text/plain": [
       "0.7435597189695551"
      ]
     },
     "execution_count": 23,
     "metadata": {},
     "output_type": "execute_result"
    }
   ],
   "source": [
    "log_reg.score(X_test, y_test)"
   ]
  },
  {
   "cell_type": "markdown",
   "id": "fc8fbc89-cb57-4806-bb26-b7a5ce6a8703",
   "metadata": {},
   "source": [
    "No improvement over default configuration"
   ]
  },
  {
   "cell_type": "code",
   "execution_count": 24,
   "id": "9b4f19a5-07eb-4dba-8271-a65521eb27df",
   "metadata": {},
   "outputs": [
    {
     "name": "stdout",
     "output_type": "stream",
     "text": [
      "Fitting 5 folds for each of 20 candidates, totalling 100 fits\n"
     ]
    },
    {
     "data": {
      "text/html": [
       "<style>#sk-container-id-2 {color: black;}#sk-container-id-2 pre{padding: 0;}#sk-container-id-2 div.sk-toggleable {background-color: white;}#sk-container-id-2 label.sk-toggleable__label {cursor: pointer;display: block;width: 100%;margin-bottom: 0;padding: 0.3em;box-sizing: border-box;text-align: center;}#sk-container-id-2 label.sk-toggleable__label-arrow:before {content: \"▸\";float: left;margin-right: 0.25em;color: #696969;}#sk-container-id-2 label.sk-toggleable__label-arrow:hover:before {color: black;}#sk-container-id-2 div.sk-estimator:hover label.sk-toggleable__label-arrow:before {color: black;}#sk-container-id-2 div.sk-toggleable__content {max-height: 0;max-width: 0;overflow: hidden;text-align: left;background-color: #f0f8ff;}#sk-container-id-2 div.sk-toggleable__content pre {margin: 0.2em;color: black;border-radius: 0.25em;background-color: #f0f8ff;}#sk-container-id-2 input.sk-toggleable__control:checked~div.sk-toggleable__content {max-height: 200px;max-width: 100%;overflow: auto;}#sk-container-id-2 input.sk-toggleable__control:checked~label.sk-toggleable__label-arrow:before {content: \"▾\";}#sk-container-id-2 div.sk-estimator input.sk-toggleable__control:checked~label.sk-toggleable__label {background-color: #d4ebff;}#sk-container-id-2 div.sk-label input.sk-toggleable__control:checked~label.sk-toggleable__label {background-color: #d4ebff;}#sk-container-id-2 input.sk-hidden--visually {border: 0;clip: rect(1px 1px 1px 1px);clip: rect(1px, 1px, 1px, 1px);height: 1px;margin: -1px;overflow: hidden;padding: 0;position: absolute;width: 1px;}#sk-container-id-2 div.sk-estimator {font-family: monospace;background-color: #f0f8ff;border: 1px dotted black;border-radius: 0.25em;box-sizing: border-box;margin-bottom: 0.5em;}#sk-container-id-2 div.sk-estimator:hover {background-color: #d4ebff;}#sk-container-id-2 div.sk-parallel-item::after {content: \"\";width: 100%;border-bottom: 1px solid gray;flex-grow: 1;}#sk-container-id-2 div.sk-label:hover label.sk-toggleable__label {background-color: #d4ebff;}#sk-container-id-2 div.sk-serial::before {content: \"\";position: absolute;border-left: 1px solid gray;box-sizing: border-box;top: 0;bottom: 0;left: 50%;z-index: 0;}#sk-container-id-2 div.sk-serial {display: flex;flex-direction: column;align-items: center;background-color: white;padding-right: 0.2em;padding-left: 0.2em;position: relative;}#sk-container-id-2 div.sk-item {position: relative;z-index: 1;}#sk-container-id-2 div.sk-parallel {display: flex;align-items: stretch;justify-content: center;background-color: white;position: relative;}#sk-container-id-2 div.sk-item::before, #sk-container-id-2 div.sk-parallel-item::before {content: \"\";position: absolute;border-left: 1px solid gray;box-sizing: border-box;top: 0;bottom: 0;left: 50%;z-index: -1;}#sk-container-id-2 div.sk-parallel-item {display: flex;flex-direction: column;z-index: 1;position: relative;background-color: white;}#sk-container-id-2 div.sk-parallel-item:first-child::after {align-self: flex-end;width: 50%;}#sk-container-id-2 div.sk-parallel-item:last-child::after {align-self: flex-start;width: 50%;}#sk-container-id-2 div.sk-parallel-item:only-child::after {width: 0;}#sk-container-id-2 div.sk-dashed-wrapped {border: 1px dashed gray;margin: 0 0.4em 0.5em 0.4em;box-sizing: border-box;padding-bottom: 0.4em;background-color: white;}#sk-container-id-2 div.sk-label label {font-family: monospace;font-weight: bold;display: inline-block;line-height: 1.2em;}#sk-container-id-2 div.sk-label-container {text-align: center;}#sk-container-id-2 div.sk-container {/* jupyter's `normalize.less` sets `[hidden] { display: none; }` but bootstrap.min.css set `[hidden] { display: none !important; }` so we also need the `!important` here to be able to override the default hidden behavior on the sphinx rendered scikit-learn.org. See: https://github.com/scikit-learn/scikit-learn/issues/21755 */display: inline-block !important;position: relative;}#sk-container-id-2 div.sk-text-repr-fallback {display: none;}</style><div id=\"sk-container-id-2\" class=\"sk-top-container\"><div class=\"sk-text-repr-fallback\"><pre>RandomizedSearchCV(cv=5, estimator=RandomForestClassifier(), n_iter=20,\n",
       "                   param_distributions={&#x27;max_depth&#x27;: [None, 2, 5, 10],\n",
       "                                        &#x27;min_samples_leaf&#x27;: array([ 1,  3,  5,  7,  9, 11, 13, 15, 17, 19]),\n",
       "                                        &#x27;min_samples_split&#x27;: array([ 2,  4,  6,  8, 10, 12, 14, 16, 18]),\n",
       "                                        &#x27;n_estimators&#x27;: array([ 10,  60, 110, 160, 210, 260, 310, 360, 410, 460, 510, 560, 610,\n",
       "       660, 710, 760, 810, 860, 910, 960])},\n",
       "                   verbose=True)</pre><b>In a Jupyter environment, please rerun this cell to show the HTML representation or trust the notebook. <br />On GitHub, the HTML representation is unable to render, please try loading this page with nbviewer.org.</b></div><div class=\"sk-container\" hidden><div class=\"sk-item sk-dashed-wrapped\"><div class=\"sk-label-container\"><div class=\"sk-label sk-toggleable\"><input class=\"sk-toggleable__control sk-hidden--visually\" id=\"sk-estimator-id-4\" type=\"checkbox\" ><label for=\"sk-estimator-id-4\" class=\"sk-toggleable__label sk-toggleable__label-arrow\">RandomizedSearchCV</label><div class=\"sk-toggleable__content\"><pre>RandomizedSearchCV(cv=5, estimator=RandomForestClassifier(), n_iter=20,\n",
       "                   param_distributions={&#x27;max_depth&#x27;: [None, 2, 5, 10],\n",
       "                                        &#x27;min_samples_leaf&#x27;: array([ 1,  3,  5,  7,  9, 11, 13, 15, 17, 19]),\n",
       "                                        &#x27;min_samples_split&#x27;: array([ 2,  4,  6,  8, 10, 12, 14, 16, 18]),\n",
       "                                        &#x27;n_estimators&#x27;: array([ 10,  60, 110, 160, 210, 260, 310, 360, 410, 460, 510, 560, 610,\n",
       "       660, 710, 760, 810, 860, 910, 960])},\n",
       "                   verbose=True)</pre></div></div></div><div class=\"sk-parallel\"><div class=\"sk-parallel-item\"><div class=\"sk-item\"><div class=\"sk-label-container\"><div class=\"sk-label sk-toggleable\"><input class=\"sk-toggleable__control sk-hidden--visually\" id=\"sk-estimator-id-5\" type=\"checkbox\" ><label for=\"sk-estimator-id-5\" class=\"sk-toggleable__label sk-toggleable__label-arrow\">estimator: RandomForestClassifier</label><div class=\"sk-toggleable__content\"><pre>RandomForestClassifier()</pre></div></div></div><div class=\"sk-serial\"><div class=\"sk-item\"><div class=\"sk-estimator sk-toggleable\"><input class=\"sk-toggleable__control sk-hidden--visually\" id=\"sk-estimator-id-6\" type=\"checkbox\" ><label for=\"sk-estimator-id-6\" class=\"sk-toggleable__label sk-toggleable__label-arrow\">RandomForestClassifier</label><div class=\"sk-toggleable__content\"><pre>RandomForestClassifier()</pre></div></div></div></div></div></div></div></div></div></div>"
      ],
      "text/plain": [
       "RandomizedSearchCV(cv=5, estimator=RandomForestClassifier(), n_iter=20,\n",
       "                   param_distributions={'max_depth': [None, 2, 5, 10],\n",
       "                                        'min_samples_leaf': array([ 1,  3,  5,  7,  9, 11, 13, 15, 17, 19]),\n",
       "                                        'min_samples_split': array([ 2,  4,  6,  8, 10, 12, 14, 16, 18]),\n",
       "                                        'n_estimators': array([ 10,  60, 110, 160, 210, 260, 310, 360, 410, 460, 510, 560, 610,\n",
       "       660, 710, 760, 810, 860, 910, 960])},\n",
       "                   verbose=True)"
      ]
     },
     "execution_count": 24,
     "metadata": {},
     "output_type": "execute_result"
    }
   ],
   "source": [
    "# Tune random forest\n",
    "np.random.seed(0)\n",
    "\n",
    "rfc_CV = RandomizedSearchCV(RandomForestClassifier(),\n",
    "                       param_distributions=rand_grid,\n",
    "                       cv=5,\n",
    "                       n_iter=20,\n",
    "                       verbose=True)\n",
    "rfc_CV.fit(X_train, y_train)"
   ]
  },
  {
   "cell_type": "code",
   "execution_count": 25,
   "id": "6d888800-e116-4b49-9a3e-3f4dc886d384",
   "metadata": {},
   "outputs": [
    {
     "data": {
      "text/plain": [
       "{'n_estimators': 710,\n",
       " 'min_samples_split': 12,\n",
       " 'min_samples_leaf': 5,\n",
       " 'max_depth': 10}"
      ]
     },
     "execution_count": 25,
     "metadata": {},
     "output_type": "execute_result"
    }
   ],
   "source": [
    "# Best hyperparameters\n",
    "rfc_CV.best_params_"
   ]
  },
  {
   "cell_type": "code",
   "execution_count": 26,
   "id": "62c3eeff-2b37-4c8f-9e69-1fa9795a1cda",
   "metadata": {},
   "outputs": [
    {
     "data": {
      "text/plain": [
       "0.9812646370023419"
      ]
     },
     "execution_count": 26,
     "metadata": {},
     "output_type": "execute_result"
    }
   ],
   "source": [
    "rfc_CV.score(X_test, y_test)"
   ]
  },
  {
   "cell_type": "markdown",
   "id": "842ae957-65ce-43e3-9586-1c01356b944b",
   "metadata": {},
   "source": [
    "No improvement over default configuration"
   ]
  },
  {
   "cell_type": "markdown",
   "id": "ecf1ebb6-b7af-4420-9ae2-5bb75984f334",
   "metadata": {},
   "source": [
    "### 7. Evaluation"
   ]
  },
  {
   "cell_type": "code",
   "execution_count": 68,
   "id": "c383ac9f-c17f-4d7d-8b9f-785ad0197a8e",
   "metadata": {},
   "outputs": [],
   "source": [
    "np.random.seed(0)\n",
    "pred = rfc_CV.predict(X_test)"
   ]
  },
  {
   "cell_type": "code",
   "execution_count": 69,
   "id": "458d8e4a-08b1-446a-bdec-288ea9c80d86",
   "metadata": {},
   "outputs": [
    {
     "data": {
      "image/png": "[encoded data removed]",
      "text/plain": [
       "<Figure size 500x500 with 1 Axes>"
      ]
     },
     "metadata": {},
     "output_type": "display_data"
    }
   ],
   "source": [
    "# Plotting a confusion matrix for the model\n",
    "def plt_conf_mat(y_test, pred):\n",
    "    sns.set(font_scale=1.3)\n",
    "    conf_matrix = confusion_matrix(y_test, pred)\n",
    "    percent_matrix = (conf_matrix / conf_matrix.sum())\n",
    "    \n",
    "    fig, ax = plt.subplots(figsize=(5, 5))\n",
    "    \n",
    "    ax = sns.heatmap(percent_matrix,\n",
    "                    annot=True,\n",
    "                    fmt='.2%',\n",
    "                    cbar=False,\n",
    "                    xticklabels=['Predicted Negative', 'Predicted Positive'],\n",
    "                    yticklabels=['True Negative', 'True Positive'],\n",
    "                    cmap='Blues')\n",
    "    \n",
    "    plt.title('Confusion Matrix (Percentages)')\n",
    "\n",
    "plt_conf_mat(y_test, pred)"
   ]
  },
  {
   "cell_type": "markdown",
   "id": "aea7939f-0560-46b5-a441-a9f40b78544b",
   "metadata": {},
   "source": [
    "#### 7.1 Cross Validation"
   ]
  },
  {
   "cell_type": "code",
   "execution_count": 70,
   "id": "247c75d0-0f3d-46cf-9bc6-fe48523e2062",
   "metadata": {},
   "outputs": [
    {
     "data": {
      "text/plain": [
       "{'n_estimators': 710,\n",
       " 'min_samples_split': 12,\n",
       " 'min_samples_leaf': 5,\n",
       " 'max_depth': 10}"
      ]
     },
     "execution_count": 70,
     "metadata": {},
     "output_type": "execute_result"
    }
   ],
   "source": [
    "# Calculating evaluation metrics using cross-validation\n",
    "rfc_CV.best_params_"
   ]
  },
  {
   "cell_type": "code",
   "execution_count": 54,
   "id": "d385cc31-68fa-499b-aecd-7bdfbbe73920",
   "metadata": {},
   "outputs": [],
   "source": [
    "def calc_eval_metric(method):\n",
    "    rfc = RandomForestClassifier(n_estimators=710,\n",
    "                            min_samples_split=12,\n",
    "                            min_samples_leaf=5,\n",
    "                            max_depth=10)\n",
    "    score = cross_val_score(rfc, X, y, cv=5, scoring=method)\n",
    "    score = np.mean(score)\n",
    "    return score"
   ]
  },
  {
   "cell_type": "code",
   "execution_count": 55,
   "id": "47b6d7eb-9ab8-49e1-bb02-6dcc6a198c40",
   "metadata": {},
   "outputs": [],
   "source": [
    "CV_accuracy = calc_eval_metric('accuracy')"
   ]
  },
  {
   "cell_type": "code",
   "execution_count": 56,
   "id": "f0849b63-f15d-47f8-884c-4d2a2353f77d",
   "metadata": {},
   "outputs": [],
   "source": [
    "CV_precision = calc_eval_metric('precision')"
   ]
  },
  {
   "cell_type": "code",
   "execution_count": 57,
   "id": "8f3cb735-e03b-4856-9f8f-4ae84571d011",
   "metadata": {},
   "outputs": [],
   "source": [
    "CV_recall = calc_eval_metric('recall')"
   ]
  },
  {
   "cell_type": "code",
   "execution_count": 58,
   "id": "e693e726-410c-43b1-a5ba-8c806fd119ba",
   "metadata": {},
   "outputs": [],
   "source": [
    "CV_f1 = calc_eval_metric('f1')"
   ]
  },
  {
   "cell_type": "code",
   "execution_count": 59,
   "id": "185c64bb-d806-433d-a63b-8d74c3198ead",
   "metadata": {},
   "outputs": [],
   "source": [
    "CV_metrics = pd.DataFrame({'Accuracy' : CV_accuracy,\n",
    "                          'Precision': CV_precision,\n",
    "                          'Recall' : CV_recall,\n",
    "                          'F1 Score' : CV_f1},\n",
    "                         index=[0])"
   ]
  },
  {
   "cell_type": "code",
   "execution_count": 60,
   "id": "4462af28-c2c3-4a27-8ae8-b227222a9528",
   "metadata": {},
   "outputs": [
    {
     "data": {
      "text/html": [
       "<div>\n",
       "<style scoped>\n",
       "    .dataframe tbody tr th:only-of-type {\n",
       "        vertical-align: middle;\n",
       "    }\n",
       "\n",
       "    .dataframe tbody tr th {\n",
       "        vertical-align: top;\n",
       "    }\n",
       "\n",
       "    .dataframe thead th {\n",
       "        text-align: right;\n",
       "    }\n",
       "</style>\n",
       "<table border=\"1\" class=\"dataframe\">\n",
       "  <thead>\n",
       "    <tr style=\"text-align: right;\">\n",
       "      <th></th>\n",
       "      <th>Accuracy</th>\n",
       "      <th>Precision</th>\n",
       "      <th>Recall</th>\n",
       "      <th>F1 Score</th>\n",
       "    </tr>\n",
       "  </thead>\n",
       "  <tbody>\n",
       "    <tr>\n",
       "      <th>0</th>\n",
       "      <td>0.979386</td>\n",
       "      <td>0.979876</td>\n",
       "      <td>0.986446</td>\n",
       "      <td>0.982207</td>\n",
       "    </tr>\n",
       "  </tbody>\n",
       "</table>\n",
       "</div>"
      ],
      "text/plain": [
       "   Accuracy  Precision    Recall  F1 Score\n",
       "0  0.979386   0.979876  0.986446  0.982207"
      ]
     },
     "execution_count": 60,
     "metadata": {},
     "output_type": "execute_result"
    }
   ],
   "source": [
    "CV_metrics"
   ]
  },
  {
   "cell_type": "markdown",
   "id": "44e129eb-16c7-423c-898d-d143d40d7230",
   "metadata": {},
   "source": [
    "#### 7.2 Feature Importance"
   ]
  },
  {
   "cell_type": "code",
   "execution_count": 61,
   "id": "0f3cf670-ca07-4b26-80aa-61f2faefda24",
   "metadata": {},
   "outputs": [
    {
     "data": {
      "text/html": [
       "<style>#sk-container-id-4 {color: black;}#sk-container-id-4 pre{padding: 0;}#sk-container-id-4 div.sk-toggleable {background-color: white;}#sk-container-id-4 label.sk-toggleable__label {cursor: pointer;display: block;width: 100%;margin-bottom: 0;padding: 0.3em;box-sizing: border-box;text-align: center;}#sk-container-id-4 label.sk-toggleable__label-arrow:before {content: \"▸\";float: left;margin-right: 0.25em;color: #696969;}#sk-container-id-4 label.sk-toggleable__label-arrow:hover:before {color: black;}#sk-container-id-4 div.sk-estimator:hover label.sk-toggleable__label-arrow:before {color: black;}#sk-container-id-4 div.sk-toggleable__content {max-height: 0;max-width: 0;overflow: hidden;text-align: left;background-color: #f0f8ff;}#sk-container-id-4 div.sk-toggleable__content pre {margin: 0.2em;color: black;border-radius: 0.25em;background-color: #f0f8ff;}#sk-container-id-4 input.sk-toggleable__control:checked~div.sk-toggleable__content {max-height: 200px;max-width: 100%;overflow: auto;}#sk-container-id-4 input.sk-toggleable__control:checked~label.sk-toggleable__label-arrow:before {content: \"▾\";}#sk-container-id-4 div.sk-estimator input.sk-toggleable__control:checked~label.sk-toggleable__label {background-color: #d4ebff;}#sk-container-id-4 div.sk-label input.sk-toggleable__control:checked~label.sk-toggleable__label {background-color: #d4ebff;}#sk-container-id-4 input.sk-hidden--visually {border: 0;clip: rect(1px 1px 1px 1px);clip: rect(1px, 1px, 1px, 1px);height: 1px;margin: -1px;overflow: hidden;padding: 0;position: absolute;width: 1px;}#sk-container-id-4 div.sk-estimator {font-family: monospace;background-color: #f0f8ff;border: 1px dotted black;border-radius: 0.25em;box-sizing: border-box;margin-bottom: 0.5em;}#sk-container-id-4 div.sk-estimator:hover {background-color: #d4ebff;}#sk-container-id-4 div.sk-parallel-item::after {content: \"\";width: 100%;border-bottom: 1px solid gray;flex-grow: 1;}#sk-container-id-4 div.sk-label:hover label.sk-toggleable__label {background-color: #d4ebff;}#sk-container-id-4 div.sk-serial::before {content: \"\";position: absolute;border-left: 1px solid gray;box-sizing: border-box;top: 0;bottom: 0;left: 50%;z-index: 0;}#sk-container-id-4 div.sk-serial {display: flex;flex-direction: column;align-items: center;background-color: white;padding-right: 0.2em;padding-left: 0.2em;position: relative;}#sk-container-id-4 div.sk-item {position: relative;z-index: 1;}#sk-container-id-4 div.sk-parallel {display: flex;align-items: stretch;justify-content: center;background-color: white;position: relative;}#sk-container-id-4 div.sk-item::before, #sk-container-id-4 div.sk-parallel-item::before {content: \"\";position: absolute;border-left: 1px solid gray;box-sizing: border-box;top: 0;bottom: 0;left: 50%;z-index: -1;}#sk-container-id-4 div.sk-parallel-item {display: flex;flex-direction: column;z-index: 1;position: relative;background-color: white;}#sk-container-id-4 div.sk-parallel-item:first-child::after {align-self: flex-end;width: 50%;}#sk-container-id-4 div.sk-parallel-item:last-child::after {align-self: flex-start;width: 50%;}#sk-container-id-4 div.sk-parallel-item:only-child::after {width: 0;}#sk-container-id-4 div.sk-dashed-wrapped {border: 1px dashed gray;margin: 0 0.4em 0.5em 0.4em;box-sizing: border-box;padding-bottom: 0.4em;background-color: white;}#sk-container-id-4 div.sk-label label {font-family: monospace;font-weight: bold;display: inline-block;line-height: 1.2em;}#sk-container-id-4 div.sk-label-container {text-align: center;}#sk-container-id-4 div.sk-container {/* jupyter's `normalize.less` sets `[hidden] { display: none; }` but bootstrap.min.css set `[hidden] { display: none !important; }` so we also need the `!important` here to be able to override the default hidden behavior on the sphinx rendered scikit-learn.org. See: https://github.com/scikit-learn/scikit-learn/issues/21755 */display: inline-block !important;position: relative;}#sk-container-id-4 div.sk-text-repr-fallback {display: none;}</style><div id=\"sk-container-id-4\" class=\"sk-top-container\"><div class=\"sk-text-repr-fallback\"><pre>RandomForestClassifier(max_depth=10, min_samples_leaf=5, min_samples_split=12,\n",
       "                       n_estimators=710)</pre><b>In a Jupyter environment, please rerun this cell to show the HTML representation or trust the notebook. <br />On GitHub, the HTML representation is unable to render, please try loading this page with nbviewer.org.</b></div><div class=\"sk-container\" hidden><div class=\"sk-item\"><div class=\"sk-estimator sk-toggleable\"><input class=\"sk-toggleable__control sk-hidden--visually\" id=\"sk-estimator-id-8\" type=\"checkbox\" checked><label for=\"sk-estimator-id-8\" class=\"sk-toggleable__label sk-toggleable__label-arrow\">RandomForestClassifier</label><div class=\"sk-toggleable__content\"><pre>RandomForestClassifier(max_depth=10, min_samples_leaf=5, min_samples_split=12,\n",
       "                       n_estimators=710)</pre></div></div></div></div></div>"
      ],
      "text/plain": [
       "RandomForestClassifier(max_depth=10, min_samples_leaf=5, min_samples_split=12,\n",
       "                       n_estimators=710)"
      ]
     },
     "execution_count": 61,
     "metadata": {},
     "output_type": "execute_result"
    }
   ],
   "source": [
    "rfc = RandomForestClassifier(n_estimators=710,\n",
    "                            min_samples_split=12,\n",
    "                            min_samples_leaf=5,\n",
    "                            max_depth=10)\n",
    "rfc.fit(X_train, y_train)"
   ]
  },
  {
   "cell_type": "code",
   "execution_count": 62,
   "id": "3bcaae48-9013-4f17-b968-465f0422a724",
   "metadata": {},
   "outputs": [
    {
     "data": {
      "text/plain": [
       "array([0.00361655, 0.00114322, 0.00121196, 0.01117853, 0.01879729,\n",
       "       0.05881984, 0.86584098, 0.01015595, 0.00973544, 0.01064495,\n",
       "       0.00885529])"
      ]
     },
     "execution_count": 62,
     "metadata": {},
     "output_type": "execute_result"
    }
   ],
   "source": [
    "rfc.feature_importances_"
   ]
  },
  {
   "cell_type": "code",
   "execution_count": 63,
   "id": "c7f399cc-2ecc-4905-91da-6455c937b247",
   "metadata": {},
   "outputs": [
    {
     "data": {
      "text/plain": [
       "Index(['no_of_dependents', 'education', 'self_employed', 'income_annum',\n",
       "       'loan_amount', 'loan_term', 'cibil_score', 'residential_assets_value',\n",
       "       'commercial_assets_value', 'luxury_assets_value', 'bank_asset_value'],\n",
       "      dtype='object')"
      ]
     },
     "execution_count": 63,
     "metadata": {},
     "output_type": "execute_result"
    }
   ],
   "source": [
    "keys = X_train.keys().copy()\n",
    "keys"
   ]
  },
  {
   "cell_type": "code",
   "execution_count": 64,
   "id": "e2114993-67ad-4c9e-9f28-93ea52e01cc7",
   "metadata": {},
   "outputs": [
    {
     "data": {
      "image/png": "[encoded data removed]",
      "text/plain": [
       "<Figure size 640x480 with 1 Axes>"
      ]
     },
     "metadata": {},
     "output_type": "display_data"
    }
   ],
   "source": [
    "plt.barh(keys, rfc.feature_importances_);"
   ]
  },
  {
   "cell_type": "markdown",
   "id": "5fa96f75-8302-45fe-98f5-deb9d01856de",
   "metadata": {},
   "source": [
    "The cibil score is a highly important feature for the model to make a prediction"
   ]
  },
  {
   "cell_type": "markdown",
   "id": "ced8bb87-272f-4256-b07b-61cfe46f8b04",
   "metadata": {},
   "source": [
    "### 8. Making Predictions\n",
    "Now that we have found and tuned the optimal model for our dataset, we can use it to make predictions from data it hasn't seen before, to satisfy the bank's business requirement. The attached image shows the ranges for the CIBIL scores. <br><br> \n",
    "**To make a prediction, fill out the inputs below and then run the code cell.**"
   ]
  },
  {
   "cell_type": "markdown",
   "id": "f07195f1-02e9-422c-bb1b-26a759a45cef",
   "metadata": {},
   "source": [
    "<img src=\"cibil-score.jpg\" alt=\"Drawing\" style=\"width: 300px;\"/>"
   ]
  },
  {
   "cell_type": "code",
   "execution_count": 65,
   "id": "c46dc23f-ddd3-482d-8fc4-efbdee36349e",
   "metadata": {},
   "outputs": [],
   "source": [
    "def make_loan_prediction(dependents, education, self_employed, annual, resedential,\n",
    "                         commercial, luxury, bank, cibil, amount, length):\n",
    "    \n",
    "    applicant = pd.DataFrame({\n",
    "        'no_of_dependents' : dependents,\n",
    "        'education' : education, \n",
    "        'self_employed' : self_employed,\n",
    "        'income_annum' : annual,\n",
    "        'loan_amount' : amount,\n",
    "        'loan_term' : length,\n",
    "        'cibil_score' : cibil,\n",
    "        'residential_assets_value' : resedential,\n",
    "        'commercial_assets_value' : commercial,\n",
    "        'luxury_assets_value' : luxury,\n",
    "        'bank_asset_value' : bank\n",
    "    }, index=[0])\n",
    "\n",
    "    for key in applicant.keys():\n",
    "        applicant[key] = applicant[key].astype(np.int64)\n",
    "    \n",
    "    prediction = rfc.predict(applicant)\n",
    "    if (prediction): return 'Approved'\n",
    "    else: return 'Denied'"
   ]
  },
  {
   "cell_type": "code",
   "execution_count": 66,
   "id": "10b5a76d-7ecf-427c-8e53-e3cedf918582",
   "metadata": {},
   "outputs": [
    {
     "data": {
      "text/plain": [
       "'Approved'"
      ]
     },
     "execution_count": 66,
     "metadata": {},
     "output_type": "execute_result"
    }
   ],
   "source": [
    "# Number of Financial Dependents (Kids, Spouse, ect.)\n",
    "dependents = 0 \n",
    "\n",
    "# Completed Higher Education? (True / False)\n",
    "education = True\n",
    "\n",
    "# Applicant Self-employed? (True / False)\n",
    "self_employed = True \n",
    "\n",
    "# Household Cumulative Annual Income ($USD)\n",
    "annual_income = 100000\n",
    "\n",
    "# Resedential Assets Value (Home & Rental Properties)\n",
    "resedential_amount = 100000\n",
    "\n",
    "# Commercial Assets Value (Office Rental, Other Business Assets)\n",
    "commercial_amount = 200000\n",
    "\n",
    "# Luxury Assets Value (Cars, Boats, ect.)\n",
    "luxury_amount = 432211\n",
    "\n",
    "# Total Bank Assets (Checkings & Savings)\n",
    "bank_amount = 32321312\n",
    "\n",
    "# CIBIL Score (Number)\n",
    "cibil_score = 780\n",
    "\n",
    "# Loan Amount ($USD)\n",
    "loan_amount = 76992\n",
    "\n",
    "# Loan Term (Years)\n",
    "loan_term = 10\n",
    "\n",
    "make_loan_prediction(dependents, education, self_employed, annual_income, resedential_amount,\n",
    "                         commercial_amount, luxury_amount, bank_amount, cibil_score, loan_amount, loan_term)"
   ]
  }
 ],
 "metadata": {
  "kernelspec": {
   "display_name": "Python 3 (ipykernel)",
   "language": "python",
   "name": "python3"
  },
  "language_info": {
   "codemirror_mode": {
    "name": "ipython",
    "version": 3
   },
   "file_extension": ".py",
   "mimetype": "text/x-python",
   "name": "python",
   "nbconvert_exporter": "python",
   "pygments_lexer": "ipython3",
   "version": "3.10.13"
  },
  "widgets": {
   "application/vnd.jupyter.widget-state+json": {
    "state": {},
    "version_major": 2,
    "version_minor": 0
   }
  }
 },
 "nbformat": 4,
 "nbformat_minor": 5
}
